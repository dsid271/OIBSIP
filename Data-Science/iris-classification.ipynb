{
 "cells": [
  {
   "cell_type": "code",
   "execution_count": 1,
   "id": "f0c2a763",
   "metadata": {
    "execution": {
     "iopub.execute_input": "2024-01-07T14:56:42.426349Z",
     "iopub.status.busy": "2024-01-07T14:56:42.425755Z",
     "iopub.status.idle": "2024-01-07T14:56:44.099373Z",
     "shell.execute_reply": "2024-01-07T14:56:44.098333Z"
    },
    "papermill": {
     "duration": 1.681979,
     "end_time": "2024-01-07T14:56:44.102110",
     "exception": false,
     "start_time": "2024-01-07T14:56:42.420131",
     "status": "completed"
    },
    "tags": []
   },
   "outputs": [],
   "source": [
    "# Import necessary libraries\n",
    "import pandas as pd\n",
    "from sklearn.model_selection import train_test_split\n",
    "from sklearn.preprocessing import StandardScaler\n",
    "from sklearn.neighbors import KNeighborsClassifier\n",
    "from sklearn.metrics import accuracy_score, classification_report"
   ]
  },
  {
   "cell_type": "markdown",
   "id": "b6dfe257",
   "metadata": {
    "papermill": {
     "duration": 0.002927,
     "end_time": "2024-01-07T14:56:44.108688",
     "exception": false,
     "start_time": "2024-01-07T14:56:44.105761",
     "status": "completed"
    },
    "tags": []
   },
   "source": [
    "**Loading the Iris Dataset:**"
   ]
  },
  {
   "cell_type": "code",
   "execution_count": 2,
   "id": "b1598a8c",
   "metadata": {
    "execution": {
     "iopub.execute_input": "2024-01-07T14:56:44.116989Z",
     "iopub.status.busy": "2024-01-07T14:56:44.116400Z",
     "iopub.status.idle": "2024-01-07T14:56:44.141048Z",
     "shell.execute_reply": "2024-01-07T14:56:44.140039Z"
    },
    "papermill": {
     "duration": 0.03175,
     "end_time": "2024-01-07T14:56:44.143590",
     "exception": false,
     "start_time": "2024-01-07T14:56:44.111840",
     "status": "completed"
    },
    "tags": []
   },
   "outputs": [],
   "source": [
    "# Load the Iris dataset from Kaggle\n",
    "# Make sure to replace 'your_dataset_path' with the correct path on Kaggle\n",
    "iris = pd.read_csv('/kaggle/input/iriscsv/Iris.csv')"
   ]
  },
  {
   "cell_type": "code",
   "execution_count": 3,
   "id": "9efed948",
   "metadata": {
    "execution": {
     "iopub.execute_input": "2024-01-07T14:56:44.151981Z",
     "iopub.status.busy": "2024-01-07T14:56:44.151507Z",
     "iopub.status.idle": "2024-01-07T14:56:44.169951Z",
     "shell.execute_reply": "2024-01-07T14:56:44.168798Z"
    },
    "papermill": {
     "duration": 0.025094,
     "end_time": "2024-01-07T14:56:44.172030",
     "exception": false,
     "start_time": "2024-01-07T14:56:44.146936",
     "status": "completed"
    },
    "tags": []
   },
   "outputs": [],
   "source": [
    "# Separate features (X) and target variable (y)\n",
    "X = iris.drop('Species', axis=1)\n",
    "y = iris['Species']"
   ]
  },
  {
   "cell_type": "markdown",
   "id": "48d0ff30",
   "metadata": {
    "papermill": {
     "duration": 0.003058,
     "end_time": "2024-01-07T14:56:44.178360",
     "exception": false,
     "start_time": "2024-01-07T14:56:44.175302",
     "status": "completed"
    },
    "tags": []
   },
   "source": [
    "**Preprocessing the Data:**"
   ]
  },
  {
   "cell_type": "code",
   "execution_count": 4,
   "id": "a8d52eba",
   "metadata": {
    "execution": {
     "iopub.execute_input": "2024-01-07T14:56:44.187172Z",
     "iopub.status.busy": "2024-01-07T14:56:44.186472Z",
     "iopub.status.idle": "2024-01-07T14:56:44.193990Z",
     "shell.execute_reply": "2024-01-07T14:56:44.192842Z"
    },
    "papermill": {
     "duration": 0.015019,
     "end_time": "2024-01-07T14:56:44.196648",
     "exception": false,
     "start_time": "2024-01-07T14:56:44.181629",
     "status": "completed"
    },
    "tags": []
   },
   "outputs": [],
   "source": [
    "# Split the dataset into training and testing sets\n",
    "X_train, X_test, y_train, y_test = train_test_split(X, y, test_size=0.2, random_state=42)"
   ]
  },
  {
   "cell_type": "code",
   "execution_count": 5,
   "id": "e696996d",
   "metadata": {
    "execution": {
     "iopub.execute_input": "2024-01-07T14:56:44.205000Z",
     "iopub.status.busy": "2024-01-07T14:56:44.204407Z",
     "iopub.status.idle": "2024-01-07T14:56:44.215563Z",
     "shell.execute_reply": "2024-01-07T14:56:44.214792Z"
    },
    "papermill": {
     "duration": 0.017761,
     "end_time": "2024-01-07T14:56:44.217707",
     "exception": false,
     "start_time": "2024-01-07T14:56:44.199946",
     "status": "completed"
    },
    "tags": []
   },
   "outputs": [],
   "source": [
    "# Standardize the features (optional but recommended for some algorithms)\n",
    "scaler = StandardScaler()\n",
    "X_train = scaler.fit_transform(X_train)\n",
    "X_test = scaler.transform(X_test)"
   ]
  },
  {
   "cell_type": "markdown",
   "id": "3cea1733",
   "metadata": {
    "papermill": {
     "duration": 0.00292,
     "end_time": "2024-01-07T14:56:44.223904",
     "exception": false,
     "start_time": "2024-01-07T14:56:44.220984",
     "status": "completed"
    },
    "tags": []
   },
   "source": [
    "**Building and Training the Model:**"
   ]
  },
  {
   "cell_type": "code",
   "execution_count": 6,
   "id": "61e04de5",
   "metadata": {
    "execution": {
     "iopub.execute_input": "2024-01-07T14:56:44.232053Z",
     "iopub.status.busy": "2024-01-07T14:56:44.231403Z",
     "iopub.status.idle": "2024-01-07T14:56:44.242537Z",
     "shell.execute_reply": "2024-01-07T14:56:44.241444Z"
    },
    "papermill": {
     "duration": 0.017759,
     "end_time": "2024-01-07T14:56:44.244756",
     "exception": false,
     "start_time": "2024-01-07T14:56:44.226997",
     "status": "completed"
    },
    "tags": []
   },
   "outputs": [
    {
     "data": {
      "text/html": [
       "<style>#sk-container-id-1 {color: black;background-color: white;}#sk-container-id-1 pre{padding: 0;}#sk-container-id-1 div.sk-toggleable {background-color: white;}#sk-container-id-1 label.sk-toggleable__label {cursor: pointer;display: block;width: 100%;margin-bottom: 0;padding: 0.3em;box-sizing: border-box;text-align: center;}#sk-container-id-1 label.sk-toggleable__label-arrow:before {content: \"▸\";float: left;margin-right: 0.25em;color: #696969;}#sk-container-id-1 label.sk-toggleable__label-arrow:hover:before {color: black;}#sk-container-id-1 div.sk-estimator:hover label.sk-toggleable__label-arrow:before {color: black;}#sk-container-id-1 div.sk-toggleable__content {max-height: 0;max-width: 0;overflow: hidden;text-align: left;background-color: #f0f8ff;}#sk-container-id-1 div.sk-toggleable__content pre {margin: 0.2em;color: black;border-radius: 0.25em;background-color: #f0f8ff;}#sk-container-id-1 input.sk-toggleable__control:checked~div.sk-toggleable__content {max-height: 200px;max-width: 100%;overflow: auto;}#sk-container-id-1 input.sk-toggleable__control:checked~label.sk-toggleable__label-arrow:before {content: \"▾\";}#sk-container-id-1 div.sk-estimator input.sk-toggleable__control:checked~label.sk-toggleable__label {background-color: #d4ebff;}#sk-container-id-1 div.sk-label input.sk-toggleable__control:checked~label.sk-toggleable__label {background-color: #d4ebff;}#sk-container-id-1 input.sk-hidden--visually {border: 0;clip: rect(1px 1px 1px 1px);clip: rect(1px, 1px, 1px, 1px);height: 1px;margin: -1px;overflow: hidden;padding: 0;position: absolute;width: 1px;}#sk-container-id-1 div.sk-estimator {font-family: monospace;background-color: #f0f8ff;border: 1px dotted black;border-radius: 0.25em;box-sizing: border-box;margin-bottom: 0.5em;}#sk-container-id-1 div.sk-estimator:hover {background-color: #d4ebff;}#sk-container-id-1 div.sk-parallel-item::after {content: \"\";width: 100%;border-bottom: 1px solid gray;flex-grow: 1;}#sk-container-id-1 div.sk-label:hover label.sk-toggleable__label {background-color: #d4ebff;}#sk-container-id-1 div.sk-serial::before {content: \"\";position: absolute;border-left: 1px solid gray;box-sizing: border-box;top: 0;bottom: 0;left: 50%;z-index: 0;}#sk-container-id-1 div.sk-serial {display: flex;flex-direction: column;align-items: center;background-color: white;padding-right: 0.2em;padding-left: 0.2em;position: relative;}#sk-container-id-1 div.sk-item {position: relative;z-index: 1;}#sk-container-id-1 div.sk-parallel {display: flex;align-items: stretch;justify-content: center;background-color: white;position: relative;}#sk-container-id-1 div.sk-item::before, #sk-container-id-1 div.sk-parallel-item::before {content: \"\";position: absolute;border-left: 1px solid gray;box-sizing: border-box;top: 0;bottom: 0;left: 50%;z-index: -1;}#sk-container-id-1 div.sk-parallel-item {display: flex;flex-direction: column;z-index: 1;position: relative;background-color: white;}#sk-container-id-1 div.sk-parallel-item:first-child::after {align-self: flex-end;width: 50%;}#sk-container-id-1 div.sk-parallel-item:last-child::after {align-self: flex-start;width: 50%;}#sk-container-id-1 div.sk-parallel-item:only-child::after {width: 0;}#sk-container-id-1 div.sk-dashed-wrapped {border: 1px dashed gray;margin: 0 0.4em 0.5em 0.4em;box-sizing: border-box;padding-bottom: 0.4em;background-color: white;}#sk-container-id-1 div.sk-label label {font-family: monospace;font-weight: bold;display: inline-block;line-height: 1.2em;}#sk-container-id-1 div.sk-label-container {text-align: center;}#sk-container-id-1 div.sk-container {/* jupyter's `normalize.less` sets `[hidden] { display: none; }` but bootstrap.min.css set `[hidden] { display: none !important; }` so we also need the `!important` here to be able to override the default hidden behavior on the sphinx rendered scikit-learn.org. See: https://github.com/scikit-learn/scikit-learn/issues/21755 */display: inline-block !important;position: relative;}#sk-container-id-1 div.sk-text-repr-fallback {display: none;}</style><div id=\"sk-container-id-1\" class=\"sk-top-container\"><div class=\"sk-text-repr-fallback\"><pre>KNeighborsClassifier(n_neighbors=3)</pre><b>In a Jupyter environment, please rerun this cell to show the HTML representation or trust the notebook. <br />On GitHub, the HTML representation is unable to render, please try loading this page with nbviewer.org.</b></div><div class=\"sk-container\" hidden><div class=\"sk-item\"><div class=\"sk-estimator sk-toggleable\"><input class=\"sk-toggleable__control sk-hidden--visually\" id=\"sk-estimator-id-1\" type=\"checkbox\" checked><label for=\"sk-estimator-id-1\" class=\"sk-toggleable__label sk-toggleable__label-arrow\">KNeighborsClassifier</label><div class=\"sk-toggleable__content\"><pre>KNeighborsClassifier(n_neighbors=3)</pre></div></div></div></div></div>"
      ],
      "text/plain": [
       "KNeighborsClassifier(n_neighbors=3)"
      ]
     },
     "execution_count": 6,
     "metadata": {},
     "output_type": "execute_result"
    }
   ],
   "source": [
    "# Initialize the K-Nearest Neighbors classifier\n",
    "knn_classifier = KNeighborsClassifier(n_neighbors=3)\n",
    "\n",
    "# Train the model\n",
    "knn_classifier.fit(X_train, y_train)"
   ]
  },
  {
   "cell_type": "markdown",
   "id": "795447eb",
   "metadata": {
    "papermill": {
     "duration": 0.003235,
     "end_time": "2024-01-07T14:56:44.252510",
     "exception": false,
     "start_time": "2024-01-07T14:56:44.249275",
     "status": "completed"
    },
    "tags": []
   },
   "source": [
    "**Making Predictions and Evaluating the Model:**"
   ]
  },
  {
   "cell_type": "code",
   "execution_count": 7,
   "id": "30ec3f13",
   "metadata": {
    "execution": {
     "iopub.execute_input": "2024-01-07T14:56:44.261501Z",
     "iopub.status.busy": "2024-01-07T14:56:44.261109Z",
     "iopub.status.idle": "2024-01-07T14:56:44.278893Z",
     "shell.execute_reply": "2024-01-07T14:56:44.277748Z"
    },
    "papermill": {
     "duration": 0.025563,
     "end_time": "2024-01-07T14:56:44.281708",
     "exception": false,
     "start_time": "2024-01-07T14:56:44.256145",
     "status": "completed"
    },
    "tags": []
   },
   "outputs": [
    {
     "name": "stdout",
     "output_type": "stream",
     "text": [
      "Accuracy: 1.00\n",
      "Classification Report:\n",
      "                  precision    recall  f1-score   support\n",
      "\n",
      "    Iris-setosa       1.00      1.00      1.00        10\n",
      "Iris-versicolor       1.00      1.00      1.00         9\n",
      " Iris-virginica       1.00      1.00      1.00        11\n",
      "\n",
      "       accuracy                           1.00        30\n",
      "      macro avg       1.00      1.00      1.00        30\n",
      "   weighted avg       1.00      1.00      1.00        30\n",
      "\n"
     ]
    }
   ],
   "source": [
    "# Make predictions on the test set\n",
    "y_pred = knn_classifier.predict(X_test)\n",
    "\n",
    "# Evaluate the model\n",
    "accuracy = accuracy_score(y_test, y_pred)\n",
    "report = classification_report(y_test, y_pred)\n",
    "\n",
    "print(f\"Accuracy: {accuracy:.2f}\")\n",
    "print(\"Classification Report:\\n\", report)"
   ]
  }
 ],
 "metadata": {
  "kaggle": {
   "accelerator": "none",
   "dataSources": [
    {
     "datasetId": 4247,
     "sourceId": 6570,
     "sourceType": "datasetVersion"
    }
   ],
   "dockerImageVersionId": 30627,
   "isGpuEnabled": false,
   "isInternetEnabled": true,
   "language": "python",
   "sourceType": "notebook"
  },
  "kernelspec": {
   "display_name": "Python 3",
   "language": "python",
   "name": "python3"
  },
  "language_info": {
   "codemirror_mode": {
    "name": "ipython",
    "version": 3
   },
   "file_extension": ".py",
   "mimetype": "text/x-python",
   "name": "python",
   "nbconvert_exporter": "python",
   "pygments_lexer": "ipython3",
   "version": "3.10.12"
  },
  "papermill": {
   "default_parameters": {},
   "duration": 5.574797,
   "end_time": "2024-01-07T14:56:44.907088",
   "environment_variables": {},
   "exception": null,
   "input_path": "__notebook__.ipynb",
   "output_path": "__notebook__.ipynb",
   "parameters": {},
   "start_time": "2024-01-07T14:56:39.332291",
   "version": "2.4.0"
  }
 },
 "nbformat": 4,
 "nbformat_minor": 5
}
