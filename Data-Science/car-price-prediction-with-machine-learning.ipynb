{
 "cells": [
  {
   "cell_type": "markdown",
   "id": "3ab39c5d",
   "metadata": {
    "_cell_guid": "b1076dfc-b9ad-4769-8c92-a6c4dae69d19",
    "_uuid": "8f2839f25d086af736a60e9eeb907d3b93b6e0e5",
    "papermill": {
     "duration": 0.00612,
     "end_time": "2024-01-13T12:13:11.622811",
     "exception": false,
     "start_time": "2024-01-13T12:13:11.616691",
     "status": "completed"
    },
    "tags": []
   },
   "source": [
    "**Import Libraries**"
   ]
  },
  {
   "cell_type": "code",
   "execution_count": 1,
   "id": "8e755a76",
   "metadata": {
    "execution": {
     "iopub.execute_input": "2024-01-13T12:13:11.637862Z",
     "iopub.status.busy": "2024-01-13T12:13:11.636903Z",
     "iopub.status.idle": "2024-01-13T12:13:13.887748Z",
     "shell.execute_reply": "2024-01-13T12:13:13.886233Z"
    },
    "papermill": {
     "duration": 2.26276,
     "end_time": "2024-01-13T12:13:13.891483",
     "exception": false,
     "start_time": "2024-01-13T12:13:11.628723",
     "status": "completed"
    },
    "tags": []
   },
   "outputs": [],
   "source": [
    "# Import necessary libraries\n",
    "import pandas as pd\n",
    "import numpy as np\n",
    "from sklearn.model_selection import train_test_split\n",
    "from sklearn.ensemble import RandomForestRegressor\n",
    "from sklearn.metrics import mean_squared_error, r2_score"
   ]
  },
  {
   "cell_type": "markdown",
   "id": "6b8ac65d",
   "metadata": {
    "papermill": {
     "duration": 0.005244,
     "end_time": "2024-01-13T12:13:13.902408",
     "exception": false,
     "start_time": "2024-01-13T12:13:13.897164",
     "status": "completed"
    },
    "tags": []
   },
   "source": [
    "**Load the Dataset**"
   ]
  },
  {
   "cell_type": "code",
   "execution_count": 2,
   "id": "333d55f0",
   "metadata": {
    "execution": {
     "iopub.execute_input": "2024-01-13T12:13:13.916694Z",
     "iopub.status.busy": "2024-01-13T12:13:13.915991Z",
     "iopub.status.idle": "2024-01-13T12:13:13.942575Z",
     "shell.execute_reply": "2024-01-13T12:13:13.941310Z"
    },
    "papermill": {
     "duration": 0.03691,
     "end_time": "2024-01-13T12:13:13.945589",
     "exception": false,
     "start_time": "2024-01-13T12:13:13.908679",
     "status": "completed"
    },
    "tags": []
   },
   "outputs": [],
   "source": [
    "# Load the Car Price Prediction dataset\n",
    "# Make sure to replace 'your_dataset_path' with the correct path on Kaggle\n",
    "car_data = pd.read_csv('/kaggle/input/car-price-predictionused-cars/car data.csv')"
   ]
  },
  {
   "cell_type": "markdown",
   "id": "5103484a",
   "metadata": {
    "papermill": {
     "duration": 0.005153,
     "end_time": "2024-01-13T12:13:13.956376",
     "exception": false,
     "start_time": "2024-01-13T12:13:13.951223",
     "status": "completed"
    },
    "tags": []
   },
   "source": [
    "**Data Exploration and Preprocessing**"
   ]
  },
  {
   "cell_type": "code",
   "execution_count": 3,
   "id": "d14a7625",
   "metadata": {
    "execution": {
     "iopub.execute_input": "2024-01-13T12:13:13.969222Z",
     "iopub.status.busy": "2024-01-13T12:13:13.968743Z",
     "iopub.status.idle": "2024-01-13T12:13:13.992942Z",
     "shell.execute_reply": "2024-01-13T12:13:13.991604Z"
    },
    "papermill": {
     "duration": 0.034385,
     "end_time": "2024-01-13T12:13:13.996047",
     "exception": false,
     "start_time": "2024-01-13T12:13:13.961662",
     "status": "completed"
    },
    "tags": []
   },
   "outputs": [
    {
     "name": "stdout",
     "output_type": "stream",
     "text": [
      "  Car_Name  Year  Selling_Price  Present_Price  Driven_kms Fuel_Type  \\\n",
      "0     ritz  2014           3.35           5.59       27000    Petrol   \n",
      "1      sx4  2013           4.75           9.54       43000    Diesel   \n",
      "2     ciaz  2017           7.25           9.85        6900    Petrol   \n",
      "3  wagon r  2011           2.85           4.15        5200    Petrol   \n",
      "4    swift  2014           4.60           6.87       42450    Diesel   \n",
      "\n",
      "  Selling_type Transmission  Owner  \n",
      "0       Dealer       Manual      0  \n",
      "1       Dealer       Manual      0  \n",
      "2       Dealer       Manual      0  \n",
      "3       Dealer       Manual      0  \n",
      "4       Dealer       Manual      0  \n",
      "Car_Name         0\n",
      "Year             0\n",
      "Selling_Price    0\n",
      "Present_Price    0\n",
      "Driven_kms       0\n",
      "Fuel_Type        0\n",
      "Selling_type     0\n",
      "Transmission     0\n",
      "Owner            0\n",
      "dtype: int64\n"
     ]
    }
   ],
   "source": [
    "# Explore the dataset\n",
    "print(car_data.head())\n",
    "\n",
    "# Drop unnecessary columns (if needed)\n",
    "# car_data = car_data.drop(['column_name1', 'column_name2'], axis=1)\n",
    "\n",
    "# Check for missing values\n",
    "print(car_data.isnull().sum())\n",
    "\n",
    "# Handle missing values (if needed)\n",
    "# car_data = car_data.dropna()\n",
    "# Or use imputation techniques like mean or median\n",
    "# car_data['column_name'] = car_data['column_name'].fillna(car_data['column_name'].mean())"
   ]
  },
  {
   "cell_type": "markdown",
   "id": "71ffccd8",
   "metadata": {
    "papermill": {
     "duration": 0.005476,
     "end_time": "2024-01-13T12:13:14.007400",
     "exception": false,
     "start_time": "2024-01-13T12:13:14.001924",
     "status": "completed"
    },
    "tags": []
   },
   "source": [
    "**Feature Selection and Engineering**"
   ]
  },
  {
   "cell_type": "code",
   "execution_count": 4,
   "id": "7e70fb97",
   "metadata": {
    "execution": {
     "iopub.execute_input": "2024-01-13T12:13:14.021302Z",
     "iopub.status.busy": "2024-01-13T12:13:14.020809Z",
     "iopub.status.idle": "2024-01-13T12:13:14.046243Z",
     "shell.execute_reply": "2024-01-13T12:13:14.045136Z"
    },
    "papermill": {
     "duration": 0.035857,
     "end_time": "2024-01-13T12:13:14.049052",
     "exception": false,
     "start_time": "2024-01-13T12:13:14.013195",
     "status": "completed"
    },
    "tags": []
   },
   "outputs": [],
   "source": [
    "# Identify features (X) and target variable (y)\n",
    "X = car_data[['Year', 'Present_Price', 'Driven_kms', 'Fuel_Type', 'Selling_type', 'Transmission', 'Owner']]\n",
    "y = car_data['Selling_Price']\n",
    "\n",
    "# Handle categorical features using one-hot encoding (if needed)\n",
    "X = pd.get_dummies(X)\n",
    "\n",
    "# Split the data into training and testing sets\n",
    "X_train, X_test, y_train, y_test = train_test_split(X, y, test_size=0.2, random_state=42)\n",
    "\n",
    "# Ensure feature names match between training and testing datasets\n",
    "missing_features = set(X_train.columns) - set(X_test.columns)\n",
    "for feature in missing_features:\n",
    "    X_test[feature] = 0"
   ]
  },
  {
   "cell_type": "markdown",
   "id": "16c2a7b3",
   "metadata": {
    "papermill": {
     "duration": 0.00591,
     "end_time": "2024-01-13T12:13:14.060920",
     "exception": false,
     "start_time": "2024-01-13T12:13:14.055010",
     "status": "completed"
    },
    "tags": []
   },
   "source": [
    "**Build and Train the Model**"
   ]
  },
  {
   "cell_type": "code",
   "execution_count": 5,
   "id": "0c3fdd83",
   "metadata": {
    "execution": {
     "iopub.execute_input": "2024-01-13T12:13:14.074831Z",
     "iopub.status.busy": "2024-01-13T12:13:14.074326Z",
     "iopub.status.idle": "2024-01-13T12:13:14.327793Z",
     "shell.execute_reply": "2024-01-13T12:13:14.326536Z"
    },
    "papermill": {
     "duration": 0.263853,
     "end_time": "2024-01-13T12:13:14.330799",
     "exception": false,
     "start_time": "2024-01-13T12:13:14.066946",
     "status": "completed"
    },
    "tags": []
   },
   "outputs": [
    {
     "data": {
      "text/html": [
       "<style>#sk-container-id-1 {color: black;background-color: white;}#sk-container-id-1 pre{padding: 0;}#sk-container-id-1 div.sk-toggleable {background-color: white;}#sk-container-id-1 label.sk-toggleable__label {cursor: pointer;display: block;width: 100%;margin-bottom: 0;padding: 0.3em;box-sizing: border-box;text-align: center;}#sk-container-id-1 label.sk-toggleable__label-arrow:before {content: \"▸\";float: left;margin-right: 0.25em;color: #696969;}#sk-container-id-1 label.sk-toggleable__label-arrow:hover:before {color: black;}#sk-container-id-1 div.sk-estimator:hover label.sk-toggleable__label-arrow:before {color: black;}#sk-container-id-1 div.sk-toggleable__content {max-height: 0;max-width: 0;overflow: hidden;text-align: left;background-color: #f0f8ff;}#sk-container-id-1 div.sk-toggleable__content pre {margin: 0.2em;color: black;border-radius: 0.25em;background-color: #f0f8ff;}#sk-container-id-1 input.sk-toggleable__control:checked~div.sk-toggleable__content {max-height: 200px;max-width: 100%;overflow: auto;}#sk-container-id-1 input.sk-toggleable__control:checked~label.sk-toggleable__label-arrow:before {content: \"▾\";}#sk-container-id-1 div.sk-estimator input.sk-toggleable__control:checked~label.sk-toggleable__label {background-color: #d4ebff;}#sk-container-id-1 div.sk-label input.sk-toggleable__control:checked~label.sk-toggleable__label {background-color: #d4ebff;}#sk-container-id-1 input.sk-hidden--visually {border: 0;clip: rect(1px 1px 1px 1px);clip: rect(1px, 1px, 1px, 1px);height: 1px;margin: -1px;overflow: hidden;padding: 0;position: absolute;width: 1px;}#sk-container-id-1 div.sk-estimator {font-family: monospace;background-color: #f0f8ff;border: 1px dotted black;border-radius: 0.25em;box-sizing: border-box;margin-bottom: 0.5em;}#sk-container-id-1 div.sk-estimator:hover {background-color: #d4ebff;}#sk-container-id-1 div.sk-parallel-item::after {content: \"\";width: 100%;border-bottom: 1px solid gray;flex-grow: 1;}#sk-container-id-1 div.sk-label:hover label.sk-toggleable__label {background-color: #d4ebff;}#sk-container-id-1 div.sk-serial::before {content: \"\";position: absolute;border-left: 1px solid gray;box-sizing: border-box;top: 0;bottom: 0;left: 50%;z-index: 0;}#sk-container-id-1 div.sk-serial {display: flex;flex-direction: column;align-items: center;background-color: white;padding-right: 0.2em;padding-left: 0.2em;position: relative;}#sk-container-id-1 div.sk-item {position: relative;z-index: 1;}#sk-container-id-1 div.sk-parallel {display: flex;align-items: stretch;justify-content: center;background-color: white;position: relative;}#sk-container-id-1 div.sk-item::before, #sk-container-id-1 div.sk-parallel-item::before {content: \"\";position: absolute;border-left: 1px solid gray;box-sizing: border-box;top: 0;bottom: 0;left: 50%;z-index: -1;}#sk-container-id-1 div.sk-parallel-item {display: flex;flex-direction: column;z-index: 1;position: relative;background-color: white;}#sk-container-id-1 div.sk-parallel-item:first-child::after {align-self: flex-end;width: 50%;}#sk-container-id-1 div.sk-parallel-item:last-child::after {align-self: flex-start;width: 50%;}#sk-container-id-1 div.sk-parallel-item:only-child::after {width: 0;}#sk-container-id-1 div.sk-dashed-wrapped {border: 1px dashed gray;margin: 0 0.4em 0.5em 0.4em;box-sizing: border-box;padding-bottom: 0.4em;background-color: white;}#sk-container-id-1 div.sk-label label {font-family: monospace;font-weight: bold;display: inline-block;line-height: 1.2em;}#sk-container-id-1 div.sk-label-container {text-align: center;}#sk-container-id-1 div.sk-container {/* jupyter's `normalize.less` sets `[hidden] { display: none; }` but bootstrap.min.css set `[hidden] { display: none !important; }` so we also need the `!important` here to be able to override the default hidden behavior on the sphinx rendered scikit-learn.org. See: https://github.com/scikit-learn/scikit-learn/issues/21755 */display: inline-block !important;position: relative;}#sk-container-id-1 div.sk-text-repr-fallback {display: none;}</style><div id=\"sk-container-id-1\" class=\"sk-top-container\"><div class=\"sk-text-repr-fallback\"><pre>RandomForestRegressor(random_state=42)</pre><b>In a Jupyter environment, please rerun this cell to show the HTML representation or trust the notebook. <br />On GitHub, the HTML representation is unable to render, please try loading this page with nbviewer.org.</b></div><div class=\"sk-container\" hidden><div class=\"sk-item\"><div class=\"sk-estimator sk-toggleable\"><input class=\"sk-toggleable__control sk-hidden--visually\" id=\"sk-estimator-id-1\" type=\"checkbox\" checked><label for=\"sk-estimator-id-1\" class=\"sk-toggleable__label sk-toggleable__label-arrow\">RandomForestRegressor</label><div class=\"sk-toggleable__content\"><pre>RandomForestRegressor(random_state=42)</pre></div></div></div></div></div>"
      ],
      "text/plain": [
       "RandomForestRegressor(random_state=42)"
      ]
     },
     "execution_count": 5,
     "metadata": {},
     "output_type": "execute_result"
    }
   ],
   "source": [
    "# Initialize the Random Forest Regressor\n",
    "rf_regressor = RandomForestRegressor(n_estimators=100, random_state=42)\n",
    "\n",
    "# Train the model\n",
    "rf_regressor.fit(X_train, y_train)"
   ]
  },
  {
   "cell_type": "markdown",
   "id": "ca4947b5",
   "metadata": {
    "papermill": {
     "duration": 0.005533,
     "end_time": "2024-01-13T12:13:14.342414",
     "exception": false,
     "start_time": "2024-01-13T12:13:14.336881",
     "status": "completed"
    },
    "tags": []
   },
   "source": [
    "**Make Predictions and Evaluate the Model**"
   ]
  },
  {
   "cell_type": "code",
   "execution_count": 6,
   "id": "62cc6633",
   "metadata": {
    "execution": {
     "iopub.execute_input": "2024-01-13T12:13:14.356075Z",
     "iopub.status.busy": "2024-01-13T12:13:14.355627Z",
     "iopub.status.idle": "2024-01-13T12:13:14.374175Z",
     "shell.execute_reply": "2024-01-13T12:13:14.372647Z"
    },
    "papermill": {
     "duration": 0.028222,
     "end_time": "2024-01-13T12:13:14.376361",
     "exception": false,
     "start_time": "2024-01-13T12:13:14.348139",
     "status": "completed"
    },
    "tags": []
   },
   "outputs": [
    {
     "name": "stdout",
     "output_type": "stream",
     "text": [
      "Mean Squared Error: 0.81\n",
      "R-squared: 0.96\n"
     ]
    }
   ],
   "source": [
    "# Make predictions on the test set\n",
    "y_pred = rf_regressor.predict(X_test)\n",
    "\n",
    "# Evaluate the model\n",
    "mse = mean_squared_error(y_test, y_pred)\n",
    "r2 = r2_score(y_test, y_pred)\n",
    "\n",
    "print(f\"Mean Squared Error: {mse:.2f}\")\n",
    "print(f\"R-squared: {r2:.2f}\")"
   ]
  },
  {
   "cell_type": "markdown",
   "id": "f0276c9b",
   "metadata": {
    "papermill": {
     "duration": 0.005751,
     "end_time": "2024-01-13T12:13:14.388446",
     "exception": false,
     "start_time": "2024-01-13T12:13:14.382695",
     "status": "completed"
    },
    "tags": []
   },
   "source": [
    "**Print the order of feature names for both the training and testing datasets**"
   ]
  },
  {
   "cell_type": "code",
   "execution_count": 7,
   "id": "c3836ae9",
   "metadata": {
    "execution": {
     "iopub.execute_input": "2024-01-13T12:13:14.402392Z",
     "iopub.status.busy": "2024-01-13T12:13:14.401942Z",
     "iopub.status.idle": "2024-01-13T12:13:14.409368Z",
     "shell.execute_reply": "2024-01-13T12:13:14.408013Z"
    },
    "papermill": {
     "duration": 0.017954,
     "end_time": "2024-01-13T12:13:14.412359",
     "exception": false,
     "start_time": "2024-01-13T12:13:14.394405",
     "status": "completed"
    },
    "tags": []
   },
   "outputs": [
    {
     "name": "stdout",
     "output_type": "stream",
     "text": [
      "Training Feature Names:\n",
      "Index(['Year', 'Present_Price', 'Driven_kms', 'Owner', 'Fuel_Type_CNG',\n",
      "       'Fuel_Type_Diesel', 'Fuel_Type_Petrol', 'Selling_type_Dealer',\n",
      "       'Selling_type_Individual', 'Transmission_Automatic',\n",
      "       'Transmission_Manual'],\n",
      "      dtype='object')\n",
      "\n",
      "Testing Feature Names:\n",
      "Index(['Year', 'Present_Price', 'Driven_kms', 'Owner', 'Fuel_Type_CNG',\n",
      "       'Fuel_Type_Diesel', 'Fuel_Type_Petrol', 'Selling_type_Dealer',\n",
      "       'Selling_type_Individual', 'Transmission_Automatic',\n",
      "       'Transmission_Manual'],\n",
      "      dtype='object')\n"
     ]
    }
   ],
   "source": [
    "# Print the order of feature names for training dataset\n",
    "print(\"Training Feature Names:\")\n",
    "print(X_train.columns)\n",
    "\n",
    "# Print the order of feature names for testing dataset\n",
    "print(\"\\nTesting Feature Names:\")\n",
    "print(X_test.columns)"
   ]
  },
  {
   "cell_type": "markdown",
   "id": "8de4d675",
   "metadata": {
    "papermill": {
     "duration": 0.005777,
     "end_time": "2024-01-13T12:13:14.424423",
     "exception": false,
     "start_time": "2024-01-13T12:13:14.418646",
     "status": "completed"
    },
    "tags": []
   },
   "source": [
    "**Test the Model with Custom Data**"
   ]
  },
  {
   "cell_type": "code",
   "execution_count": 8,
   "id": "c7ae7b67",
   "metadata": {
    "execution": {
     "iopub.execute_input": "2024-01-13T12:13:14.438740Z",
     "iopub.status.busy": "2024-01-13T12:13:14.438223Z",
     "iopub.status.idle": "2024-01-13T12:13:14.456744Z",
     "shell.execute_reply": "2024-01-13T12:13:14.455348Z"
    },
    "papermill": {
     "duration": 0.028472,
     "end_time": "2024-01-13T12:13:14.459025",
     "exception": false,
     "start_time": "2024-01-13T12:13:14.430553",
     "status": "completed"
    },
    "tags": []
   },
   "outputs": [
    {
     "name": "stdout",
     "output_type": "stream",
     "text": [
      "Predicted Selling Price for Custom Data: 7.79\n"
     ]
    }
   ],
   "source": [
    "# Test the model with custom data\n",
    "custom_data = pd.DataFrame({\n",
    "    'Year': [2018],\n",
    "    'Present_Price': [10.0],\n",
    "    'Driven_kms': [50000],\n",
    "    'Owner': [0],\n",
    "    'Fuel_Type_CNG': [0],\n",
    "    'Fuel_Type_Diesel': [0],\n",
    "    'Fuel_Type_Petrol': [1],\n",
    "    'Selling_type_Dealer': [0],\n",
    "    'Selling_type_Individual': [1],\n",
    "    'Transmission_Automatic': [0],\n",
    "    'Transmission_Manual': [1]\n",
    "})\n",
    "\n",
    "custom_prediction = rf_regressor.predict(custom_data)\n",
    "\n",
    "print(f\"Predicted Selling Price for Custom Data: {custom_prediction[0]:.2f}\")"
   ]
  }
 ],
 "metadata": {
  "kaggle": {
   "accelerator": "none",
   "dataSources": [
    {
     "datasetId": 2491159,
     "sourceId": 4226692,
     "sourceType": "datasetVersion"
    }
   ],
   "dockerImageVersionId": 30635,
   "isGpuEnabled": false,
   "isInternetEnabled": true,
   "language": "python",
   "sourceType": "notebook"
  },
  "kernelspec": {
   "display_name": "Python 3",
   "language": "python",
   "name": "python3"
  },
  "language_info": {
   "codemirror_mode": {
    "name": "ipython",
    "version": 3
   },
   "file_extension": ".py",
   "mimetype": "text/x-python",
   "name": "python",
   "nbconvert_exporter": "python",
   "pygments_lexer": "ipython3",
   "version": "3.10.12"
  },
  "papermill": {
   "default_parameters": {},
   "duration": 9.587827,
   "end_time": "2024-01-13T12:13:17.478549",
   "environment_variables": {},
   "exception": null,
   "input_path": "__notebook__.ipynb",
   "output_path": "__notebook__.ipynb",
   "parameters": {},
   "start_time": "2024-01-13T12:13:07.890722",
   "version": "2.4.0"
  }
 },
 "nbformat": 4,
 "nbformat_minor": 5
}
