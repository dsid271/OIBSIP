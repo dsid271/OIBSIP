{
 "cells": [
  {
   "cell_type": "markdown",
   "id": "22c551c9",
   "metadata": {
    "_cell_guid": "b1076dfc-b9ad-4769-8c92-a6c4dae69d19",
    "_uuid": "8f2839f25d086af736a60e9eeb907d3b93b6e0e5",
    "papermill": {
     "duration": 0.005502,
     "end_time": "2024-01-13T11:34:59.207329",
     "exception": false,
     "start_time": "2024-01-13T11:34:59.201827",
     "status": "completed"
    },
    "tags": []
   },
   "source": [
    "**Import Libraries**"
   ]
  },
  {
   "cell_type": "code",
   "execution_count": 1,
   "id": "0350dce9",
   "metadata": {
    "execution": {
     "iopub.execute_input": "2024-01-13T11:34:59.217049Z",
     "iopub.status.busy": "2024-01-13T11:34:59.216618Z",
     "iopub.status.idle": "2024-01-13T11:35:01.043512Z",
     "shell.execute_reply": "2024-01-13T11:35:01.041728Z"
    },
    "papermill": {
     "duration": 1.834821,
     "end_time": "2024-01-13T11:35:01.046632",
     "exception": false,
     "start_time": "2024-01-13T11:34:59.211811",
     "status": "completed"
    },
    "tags": []
   },
   "outputs": [],
   "source": [
    "# Import necessary libraries\n",
    "import pandas as pd\n",
    "from sklearn.feature_extraction.text import CountVectorizer\n",
    "from sklearn.model_selection import train_test_split\n",
    "from sklearn.naive_bayes import MultinomialNB\n",
    "from sklearn.metrics import accuracy_score, classification_report"
   ]
  },
  {
   "cell_type": "markdown",
   "id": "2e8abd78",
   "metadata": {
    "papermill": {
     "duration": 0.003385,
     "end_time": "2024-01-13T11:35:01.054312",
     "exception": false,
     "start_time": "2024-01-13T11:35:01.050927",
     "status": "completed"
    },
    "tags": []
   },
   "source": [
    "**Load the Dataset**"
   ]
  },
  {
   "cell_type": "code",
   "execution_count": 2,
   "id": "0c31c3dc",
   "metadata": {
    "execution": {
     "iopub.execute_input": "2024-01-13T11:35:01.065148Z",
     "iopub.status.busy": "2024-01-13T11:35:01.063852Z",
     "iopub.status.idle": "2024-01-13T11:35:01.102268Z",
     "shell.execute_reply": "2024-01-13T11:35:01.100574Z"
    },
    "papermill": {
     "duration": 0.046928,
     "end_time": "2024-01-13T11:35:01.105090",
     "exception": false,
     "start_time": "2024-01-13T11:35:01.058162",
     "status": "completed"
    },
    "tags": []
   },
   "outputs": [],
   "source": [
    "# Load the SMS Spam Collection Dataset\n",
    "# Make sure to replace 'your_dataset_path' with the correct path on Kaggle\n",
    "spam_data = pd.read_csv('/kaggle/input/sms-spam-collection-dataset/spam.csv', encoding='latin-1')"
   ]
  },
  {
   "cell_type": "markdown",
   "id": "aa2cbfaa",
   "metadata": {
    "papermill": {
     "duration": 0.003024,
     "end_time": "2024-01-13T11:35:01.111819",
     "exception": false,
     "start_time": "2024-01-13T11:35:01.108795",
     "status": "completed"
    },
    "tags": []
   },
   "source": [
    "**Data Exploration and Preprocessing**"
   ]
  },
  {
   "cell_type": "code",
   "execution_count": 3,
   "id": "17dfe145",
   "metadata": {
    "execution": {
     "iopub.execute_input": "2024-01-13T11:35:01.121182Z",
     "iopub.status.busy": "2024-01-13T11:35:01.120042Z",
     "iopub.status.idle": "2024-01-13T11:35:01.158349Z",
     "shell.execute_reply": "2024-01-13T11:35:01.155909Z"
    },
    "papermill": {
     "duration": 0.046028,
     "end_time": "2024-01-13T11:35:01.161077",
     "exception": false,
     "start_time": "2024-01-13T11:35:01.115049",
     "status": "completed"
    },
    "tags": []
   },
   "outputs": [
    {
     "name": "stdout",
     "output_type": "stream",
     "text": [
      "     v1                                                 v2 Unnamed: 2  \\\n",
      "0   ham  Go until jurong point, crazy.. Available only ...        NaN   \n",
      "1   ham                      Ok lar... Joking wif u oni...        NaN   \n",
      "2  spam  Free entry in 2 a wkly comp to win FA Cup fina...        NaN   \n",
      "3   ham  U dun say so early hor... U c already then say...        NaN   \n",
      "4   ham  Nah I don't think he goes to usf, he lives aro...        NaN   \n",
      "\n",
      "  Unnamed: 3 Unnamed: 4  \n",
      "0        NaN        NaN  \n",
      "1        NaN        NaN  \n",
      "2        NaN        NaN  \n",
      "3        NaN        NaN  \n",
      "4        NaN        NaN  \n"
     ]
    }
   ],
   "source": [
    "# Explore the dataset\n",
    "print(spam_data.head())\n",
    "\n",
    "# Drop unnecessary columns\n",
    "spam_data = spam_data[['v1', 'v2']]\n",
    "spam_data.columns = ['label', 'text']\n",
    "\n",
    "# Convert labels to binary (0 for ham, 1 for spam)\n",
    "spam_data['label'] = spam_data['label'].map({'ham': 0, 'spam': 1})\n",
    "\n",
    "# Split the data into training and testing sets\n",
    "X_train, X_test, y_train, y_test = train_test_split(spam_data['text'], spam_data['label'], test_size=0.2, random_state=42)"
   ]
  },
  {
   "cell_type": "markdown",
   "id": "78ba47a3",
   "metadata": {
    "papermill": {
     "duration": 0.003362,
     "end_time": "2024-01-13T11:35:01.168419",
     "exception": false,
     "start_time": "2024-01-13T11:35:01.165057",
     "status": "completed"
    },
    "tags": []
   },
   "source": [
    "**Feature Extraction**"
   ]
  },
  {
   "cell_type": "code",
   "execution_count": 4,
   "id": "6574be6e",
   "metadata": {
    "execution": {
     "iopub.execute_input": "2024-01-13T11:35:01.178129Z",
     "iopub.status.busy": "2024-01-13T11:35:01.177686Z",
     "iopub.status.idle": "2024-01-13T11:35:01.421191Z",
     "shell.execute_reply": "2024-01-13T11:35:01.419560Z"
    },
    "papermill": {
     "duration": 0.252608,
     "end_time": "2024-01-13T11:35:01.424946",
     "exception": false,
     "start_time": "2024-01-13T11:35:01.172338",
     "status": "completed"
    },
    "tags": []
   },
   "outputs": [],
   "source": [
    "# Convert text data to numerical features using CountVectorizer\n",
    "vectorizer = CountVectorizer()\n",
    "X_train_vectorized = vectorizer.fit_transform(X_train)\n",
    "X_test_vectorized = vectorizer.transform(X_test)"
   ]
  },
  {
   "cell_type": "markdown",
   "id": "87f354ce",
   "metadata": {
    "papermill": {
     "duration": 0.00376,
     "end_time": "2024-01-13T11:35:01.434524",
     "exception": false,
     "start_time": "2024-01-13T11:35:01.430764",
     "status": "completed"
    },
    "tags": []
   },
   "source": [
    "**Build and Train the Model**"
   ]
  },
  {
   "cell_type": "code",
   "execution_count": 5,
   "id": "406fc869",
   "metadata": {
    "execution": {
     "iopub.execute_input": "2024-01-13T11:35:01.444477Z",
     "iopub.status.busy": "2024-01-13T11:35:01.444052Z",
     "iopub.status.idle": "2024-01-13T11:35:01.463738Z",
     "shell.execute_reply": "2024-01-13T11:35:01.462453Z"
    },
    "papermill": {
     "duration": 0.028532,
     "end_time": "2024-01-13T11:35:01.466768",
     "exception": false,
     "start_time": "2024-01-13T11:35:01.438236",
     "status": "completed"
    },
    "tags": []
   },
   "outputs": [
    {
     "data": {
      "text/html": [
       "<style>#sk-container-id-1 {color: black;background-color: white;}#sk-container-id-1 pre{padding: 0;}#sk-container-id-1 div.sk-toggleable {background-color: white;}#sk-container-id-1 label.sk-toggleable__label {cursor: pointer;display: block;width: 100%;margin-bottom: 0;padding: 0.3em;box-sizing: border-box;text-align: center;}#sk-container-id-1 label.sk-toggleable__label-arrow:before {content: \"▸\";float: left;margin-right: 0.25em;color: #696969;}#sk-container-id-1 label.sk-toggleable__label-arrow:hover:before {color: black;}#sk-container-id-1 div.sk-estimator:hover label.sk-toggleable__label-arrow:before {color: black;}#sk-container-id-1 div.sk-toggleable__content {max-height: 0;max-width: 0;overflow: hidden;text-align: left;background-color: #f0f8ff;}#sk-container-id-1 div.sk-toggleable__content pre {margin: 0.2em;color: black;border-radius: 0.25em;background-color: #f0f8ff;}#sk-container-id-1 input.sk-toggleable__control:checked~div.sk-toggleable__content {max-height: 200px;max-width: 100%;overflow: auto;}#sk-container-id-1 input.sk-toggleable__control:checked~label.sk-toggleable__label-arrow:before {content: \"▾\";}#sk-container-id-1 div.sk-estimator input.sk-toggleable__control:checked~label.sk-toggleable__label {background-color: #d4ebff;}#sk-container-id-1 div.sk-label input.sk-toggleable__control:checked~label.sk-toggleable__label {background-color: #d4ebff;}#sk-container-id-1 input.sk-hidden--visually {border: 0;clip: rect(1px 1px 1px 1px);clip: rect(1px, 1px, 1px, 1px);height: 1px;margin: -1px;overflow: hidden;padding: 0;position: absolute;width: 1px;}#sk-container-id-1 div.sk-estimator {font-family: monospace;background-color: #f0f8ff;border: 1px dotted black;border-radius: 0.25em;box-sizing: border-box;margin-bottom: 0.5em;}#sk-container-id-1 div.sk-estimator:hover {background-color: #d4ebff;}#sk-container-id-1 div.sk-parallel-item::after {content: \"\";width: 100%;border-bottom: 1px solid gray;flex-grow: 1;}#sk-container-id-1 div.sk-label:hover label.sk-toggleable__label {background-color: #d4ebff;}#sk-container-id-1 div.sk-serial::before {content: \"\";position: absolute;border-left: 1px solid gray;box-sizing: border-box;top: 0;bottom: 0;left: 50%;z-index: 0;}#sk-container-id-1 div.sk-serial {display: flex;flex-direction: column;align-items: center;background-color: white;padding-right: 0.2em;padding-left: 0.2em;position: relative;}#sk-container-id-1 div.sk-item {position: relative;z-index: 1;}#sk-container-id-1 div.sk-parallel {display: flex;align-items: stretch;justify-content: center;background-color: white;position: relative;}#sk-container-id-1 div.sk-item::before, #sk-container-id-1 div.sk-parallel-item::before {content: \"\";position: absolute;border-left: 1px solid gray;box-sizing: border-box;top: 0;bottom: 0;left: 50%;z-index: -1;}#sk-container-id-1 div.sk-parallel-item {display: flex;flex-direction: column;z-index: 1;position: relative;background-color: white;}#sk-container-id-1 div.sk-parallel-item:first-child::after {align-self: flex-end;width: 50%;}#sk-container-id-1 div.sk-parallel-item:last-child::after {align-self: flex-start;width: 50%;}#sk-container-id-1 div.sk-parallel-item:only-child::after {width: 0;}#sk-container-id-1 div.sk-dashed-wrapped {border: 1px dashed gray;margin: 0 0.4em 0.5em 0.4em;box-sizing: border-box;padding-bottom: 0.4em;background-color: white;}#sk-container-id-1 div.sk-label label {font-family: monospace;font-weight: bold;display: inline-block;line-height: 1.2em;}#sk-container-id-1 div.sk-label-container {text-align: center;}#sk-container-id-1 div.sk-container {/* jupyter's `normalize.less` sets `[hidden] { display: none; }` but bootstrap.min.css set `[hidden] { display: none !important; }` so we also need the `!important` here to be able to override the default hidden behavior on the sphinx rendered scikit-learn.org. See: https://github.com/scikit-learn/scikit-learn/issues/21755 */display: inline-block !important;position: relative;}#sk-container-id-1 div.sk-text-repr-fallback {display: none;}</style><div id=\"sk-container-id-1\" class=\"sk-top-container\"><div class=\"sk-text-repr-fallback\"><pre>MultinomialNB()</pre><b>In a Jupyter environment, please rerun this cell to show the HTML representation or trust the notebook. <br />On GitHub, the HTML representation is unable to render, please try loading this page with nbviewer.org.</b></div><div class=\"sk-container\" hidden><div class=\"sk-item\"><div class=\"sk-estimator sk-toggleable\"><input class=\"sk-toggleable__control sk-hidden--visually\" id=\"sk-estimator-id-1\" type=\"checkbox\" checked><label for=\"sk-estimator-id-1\" class=\"sk-toggleable__label sk-toggleable__label-arrow\">MultinomialNB</label><div class=\"sk-toggleable__content\"><pre>MultinomialNB()</pre></div></div></div></div></div>"
      ],
      "text/plain": [
       "MultinomialNB()"
      ]
     },
     "execution_count": 5,
     "metadata": {},
     "output_type": "execute_result"
    }
   ],
   "source": [
    "# Initialize the Naive Bayes classifier\n",
    "nb_classifier = MultinomialNB()\n",
    "\n",
    "# Train the model\n",
    "nb_classifier.fit(X_train_vectorized, y_train)"
   ]
  },
  {
   "cell_type": "markdown",
   "id": "8bc24adc",
   "metadata": {
    "papermill": {
     "duration": 0.004693,
     "end_time": "2024-01-13T11:35:01.475565",
     "exception": false,
     "start_time": "2024-01-13T11:35:01.470872",
     "status": "completed"
    },
    "tags": []
   },
   "source": [
    "**Make Predictions and Evaluate the Model**"
   ]
  },
  {
   "cell_type": "code",
   "execution_count": 6,
   "id": "89aafad4",
   "metadata": {
    "execution": {
     "iopub.execute_input": "2024-01-13T11:35:01.489030Z",
     "iopub.status.busy": "2024-01-13T11:35:01.488067Z",
     "iopub.status.idle": "2024-01-13T11:35:01.509272Z",
     "shell.execute_reply": "2024-01-13T11:35:01.507515Z"
    },
    "papermill": {
     "duration": 0.031533,
     "end_time": "2024-01-13T11:35:01.512348",
     "exception": false,
     "start_time": "2024-01-13T11:35:01.480815",
     "status": "completed"
    },
    "tags": []
   },
   "outputs": [
    {
     "name": "stdout",
     "output_type": "stream",
     "text": [
      "Accuracy: 0.98\n",
      "Classification Report:\n",
      "               precision    recall  f1-score   support\n",
      "\n",
      "           0       0.98      1.00      0.99       965\n",
      "           1       0.99      0.89      0.94       150\n",
      "\n",
      "    accuracy                           0.98      1115\n",
      "   macro avg       0.98      0.95      0.96      1115\n",
      "weighted avg       0.98      0.98      0.98      1115\n",
      "\n"
     ]
    }
   ],
   "source": [
    "# Make predictions on the test set\n",
    "y_pred = nb_classifier.predict(X_test_vectorized)\n",
    "\n",
    "# Evaluate the model\n",
    "accuracy = accuracy_score(y_test, y_pred)\n",
    "report = classification_report(y_test, y_pred)\n",
    "\n",
    "print(f\"Accuracy: {accuracy:.2f}\")\n",
    "print(\"Classification Report:\\n\", report)"
   ]
  },
  {
   "cell_type": "markdown",
   "id": "539d5ae8",
   "metadata": {
    "papermill": {
     "duration": 0.004262,
     "end_time": "2024-01-13T11:35:01.520766",
     "exception": false,
     "start_time": "2024-01-13T11:35:01.516504",
     "status": "completed"
    },
    "tags": []
   },
   "source": [
    "**Test the Model with Custom Data**"
   ]
  },
  {
   "cell_type": "code",
   "execution_count": 7,
   "id": "d17863d9",
   "metadata": {
    "execution": {
     "iopub.execute_input": "2024-01-13T11:35:01.532023Z",
     "iopub.status.busy": "2024-01-13T11:35:01.531166Z",
     "iopub.status.idle": "2024-01-13T11:35:01.543506Z",
     "shell.execute_reply": "2024-01-13T11:35:01.541616Z"
    },
    "papermill": {
     "duration": 0.020799,
     "end_time": "2024-01-13T11:35:01.545985",
     "exception": false,
     "start_time": "2024-01-13T11:35:01.525186",
     "status": "completed"
    },
    "tags": []
   },
   "outputs": [
    {
     "name": "stdout",
     "output_type": "stream",
     "text": [
      "Prediction for custom data 1: Spam\n",
      "Prediction for custom data 2: Ham\n"
     ]
    }
   ],
   "source": [
    "# Test the model with custom data\n",
    "custom_data = [\"Congratulations! You've won a free vacation.\",\n",
    "               \"Can you please review and approve the attached document?\"]\n",
    "\n",
    "custom_data_vectorized = vectorizer.transform(custom_data)\n",
    "custom_predictions = nb_classifier.predict(custom_data_vectorized)\n",
    "\n",
    "# Print the predictions\n",
    "for i, prediction in enumerate(custom_predictions):\n",
    "    result = \"Spam\" if prediction == 1 else \"Ham\"\n",
    "    print(f\"Prediction for custom data {i+1}: {result}\")"
   ]
  }
 ],
 "metadata": {
  "kaggle": {
   "accelerator": "none",
   "dataSources": [
    {
     "datasetId": 483,
     "sourceId": 982,
     "sourceType": "datasetVersion"
    }
   ],
   "dockerImageVersionId": 30635,
   "isGpuEnabled": false,
   "isInternetEnabled": true,
   "language": "python",
   "sourceType": "notebook"
  },
  "kernelspec": {
   "display_name": "Python 3",
   "language": "python",
   "name": "python3"
  },
  "language_info": {
   "codemirror_mode": {
    "name": "ipython",
    "version": 3
   },
   "file_extension": ".py",
   "mimetype": "text/x-python",
   "name": "python",
   "nbconvert_exporter": "python",
   "pygments_lexer": "ipython3",
   "version": "3.10.12"
  },
  "papermill": {
   "default_parameters": {},
   "duration": 6.334623,
   "end_time": "2024-01-13T11:35:02.476753",
   "environment_variables": {},
   "exception": null,
   "input_path": "__notebook__.ipynb",
   "output_path": "__notebook__.ipynb",
   "parameters": {},
   "start_time": "2024-01-13T11:34:56.142130",
   "version": "2.4.0"
  }
 },
 "nbformat": 4,
 "nbformat_minor": 5
}
